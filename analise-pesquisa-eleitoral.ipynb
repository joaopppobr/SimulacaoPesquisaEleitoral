{
 "cells": [
  {
   "cell_type": "markdown",
   "metadata": {},
   "source": [
    "# Simulando pesquisas eleitorais com Python"
   ]
  },
  {
   "cell_type": "markdown",
   "metadata": {},
   "source": [
    "### Esse código é o complemento do meu post sobre pesquisas eleitorais, ele pode ser lido [aqui](https://www.itsjohnsnotes.com/single-post/2018/10/27/Pesquisas-Eleitorais-Só-Precisam-de-2000-Pessoas-Pra-Acertar-Uma-Prova-Com-Programação)"
   ]
  },
  {
   "cell_type": "code",
   "execution_count": 4,
   "metadata": {},
   "outputs": [],
   "source": [
    "import math\n",
    "import random\n",
    "import matplotlib.pyplot as plt\n",
    "%matplotlib inline"
   ]
  },
  {
   "cell_type": "markdown",
   "metadata": {},
   "source": [
    "### Primeiro, definimos o tamanho do eleitorado e o número de votos para os quais vamos simular e definimos a função 'pesquisa'"
   ]
  },
  {
   "cell_type": "code",
   "execution_count": 2,
   "metadata": {},
   "outputs": [],
   "source": [
    "def pesquisa(eleitorado, votacao, amostra):\n",
    "    resultado = 0\n",
    "    for i in range(amostra):\n",
    "        chave = random.randint(0,eleitorado)\n",
    "        if chave < votacao:\n",
    "            resultado += 1\n",
    "        else:\n",
    "            resultado += 0\n",
    "    return (resultado/amostra) * eleitorado"
   ]
  },
  {
   "cell_type": "markdown",
   "metadata": {},
   "source": [
    "## Agora vamos simular uma pesquisa:"
   ]
  },
  {
   "cell_type": "code",
   "execution_count": 77,
   "metadata": {},
   "outputs": [
    {
     "name": "stdout",
     "output_type": "stream",
     "text": [
      "resultado: 58950000.0, erro:1.749999999999996\n"
     ]
    }
   ],
   "source": [
    "eleitorado = 150000000\n",
    "votacao = 60000000\n",
    "amostra = 2000\n",
    "resultado_pesquisa = pesquisa(eleitorado, votacao, amostra)\n",
    "erro = abs(((resultado_pesquisa)/votacao - 1) * 100)\n",
    "\n",
    "print(\"resultado: {}, erro:{}\".format(resultado_pesquisa, erro))"
   ]
  },
  {
   "cell_type": "markdown",
   "metadata": {},
   "source": [
    "## Depois, definimos o número de simulações de pesquisa que queremos executar e definimos a função 'Simulacao'"
   ]
  },
  {
   "cell_type": "markdown",
   "metadata": {},
   "source": [
    "### Essa função retorna o resultado médio e o erro médio depois de realizadas 'simulacoes' pesquisas."
   ]
  },
  {
   "cell_type": "code",
   "execution_count": 82,
   "metadata": {},
   "outputs": [],
   "source": [
    "def simulacao(simulacoes, amostra):\n",
    "    soma_resultado = 0\n",
    "    soma_erro = 0\n",
    "    for i in range(simulacoes):\n",
    "        resultado = pesquisa(eleitorado, votacao, amostra)\n",
    "        soma_resultado += resultado\n",
    "        soma_erro += abs(((resultado)/votacao - 1) * 100)\n",
    "    erro_medio = soma_erro / simulacoes\n",
    "    resultado_medio = soma_resultado/ simulacoes\n",
    "    return erro_medio"
   ]
  },
  {
   "cell_type": "markdown",
   "metadata": {},
   "source": [
    "## Agora vamos visualizar a diferença do erro médio para tamanhos diferentes de amostra"
   ]
  },
  {
   "cell_type": "markdown",
   "metadata": {},
   "source": [
    "### O código abaixo faz 150 simulações em diferentes tamanhos de amostra. A amostra varia de 10 em 10, partindo de 10 a 1500. No total, são feitas 150.000 'pesquisas'."
   ]
  },
  {
   "cell_type": "code",
   "execution_count": 83,
   "metadata": {
    "scrolled": true
   },
   "outputs": [
    {
     "name": "stdout",
     "output_type": "stream",
     "text": [
      "Finalizado\n"
     ]
    }
   ],
   "source": [
    "valores_amostra = []\n",
    "resultado_medio = []\n",
    "erro_medio = []\n",
    "for i in range(1,451):\n",
    "    erro_medio.append(0)\n",
    "    valores_amostra.append(i*10)\n",
    "for i in range(0,450):\n",
    "    erro_medio[i] = simulacao(1000, valores_amostra[i])\n",
    "print(\"Finalizado\")"
   ]
  },
  {
   "cell_type": "markdown",
   "metadata": {},
   "source": [
    "## Vizualizando a variação do erro quando se varia as amostras."
   ]
  },
  {
   "cell_type": "code",
   "execution_count": 84,
   "metadata": {},
   "outputs": [
    {
     "data": {
      "image/png": "[encoded data removed]",
      "text/plain": [
       "<Figure size 432x288 with 1 Axes>"
      ]
     },
     "metadata": {},
     "output_type": "display_data"
    }
   ],
   "source": [
    "plt.xlabel(\"Amostra\")\n",
    "plt.ylabel(\"Erro Médio\")\n",
    "plt.title(\"Erro médio para tamanhos de amostra diferentes\\n\")\n",
    "plt.plot(valores_amostra, erro_medio)\n",
    "plt.show()"
   ]
  },
  {
   "cell_type": "markdown",
   "metadata": {},
   "source": [
    "## Podemos concluir, então, que o erro não excede 4.06 pontos percentuais para amostras menores que 4500."
   ]
  },
  {
   "cell_type": "markdown",
   "metadata": {},
   "source": [
    "#### Código elaborado por João Pedro Oliveira. 2018"
   ]
  }
 ],
 "metadata": {
  "kernelspec": {
   "display_name": "Python 3",
   "language": "python",
   "name": "python3"
  },
  "language_info": {
   "codemirror_mode": {
    "name": "ipython",
    "version": 3
   },
   "file_extension": ".py",
   "mimetype": "text/x-python",
   "name": "python",
   "nbconvert_exporter": "python",
   "pygments_lexer": "ipython3",
   "version": "3.6.5"
  }
 },
 "nbformat": 4,
 "nbformat_minor": 2
}
