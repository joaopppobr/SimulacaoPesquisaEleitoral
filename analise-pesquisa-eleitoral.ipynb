{
 "cells": [
  {
   "cell_type": "markdown",
   "metadata": {},
   "source": [
    "# Simulando pesquisas eleitorais com Python"
   ]
  },
  {
   "cell_type": "markdown",
   "metadata": {},
   "source": [
    "### Esse código é o complemento do meu post sobre pesquisas eleitorais, ele pode ser lido [aqui](https://www.itsjohnsnotes.com/single-post/2018/10/27/Pesquisas-Eleitorais-Só-Precisam-de-2000-Pessoas-Pra-Acertar-Uma-Prova-Com-Programação)"
   ]
  },
  {
   "cell_type": "code",
   "execution_count": 6,
   "metadata": {},
   "outputs": [],
   "source": [
    "import math\n",
    "import random\n",
    "import matplotlib.pyplot as plt\n",
    "%matplotlib inline"
   ]
  },
  {
   "cell_type": "markdown",
   "metadata": {},
   "source": [
    "### Primeiro, definimos o tamanho do eleitorado e o número de votos para os quais vamos simular e definimos a função 'pesquisa'"
   ]
  },
  {
   "cell_type": "code",
   "execution_count": 31,
   "metadata": {},
   "outputs": [],
   "source": [
    "def pesquisa(eleitorado, votacao, amostra):\n",
    "    resultado = 0\n",
    "    for i in range(amostra):\n",
    "        chave = random.randint(0,eleitorado)\n",
    "        if chave < votacao:\n",
    "            resultado += 1\n",
    "        else:\n",
    "            resultado += 0\n",
    "    return (resultado/amostra)"
   ]
  },
  {
   "cell_type": "markdown",
   "metadata": {},
   "source": [
    "## Agora vamos simular uma pesquisa:"
   ]
  },
  {
   "cell_type": "code",
   "execution_count": 34,
   "metadata": {},
   "outputs": [
    {
     "name": "stdout",
     "output_type": "stream",
     "text": [
      "resultado: 58725000.0, erro:2.124999999999999\n"
     ]
    }
   ],
   "source": [
    "eleitorado = 150000000\n",
    "votacao = 60000000\n",
    "amostra = 2000\n",
    "resultado_pesquisa = pesquisa(eleitorado, votacao, amostra) * eleitorado\n",
    "erro = abs(((resultado_pesquisa)/votacao - 1) * 100)\n",
    "\n",
    "print(\"resultado: {}, erro:{}\".format(resultado_pesquisa, erro))"
   ]
  },
  {
   "cell_type": "markdown",
   "metadata": {},
   "source": [
    "## Depois, definimos o número de simulações de pesquisa que queremos executar e definimos a função 'Simulacao'"
   ]
  },
  {
   "cell_type": "markdown",
   "metadata": {},
   "source": [
    "### Essa função retorna o resultado médio e o erro médio depois de realizadas 'simulacoes' pesquisas."
   ]
  },
  {
   "cell_type": "code",
   "execution_count": 68,
   "metadata": {},
   "outputs": [],
   "source": [
    "def simulacao_formula_funcao(simulacoes, amostra):\n",
    "    soma_resultado = 0\n",
    "    soma_erro = 0\n",
    "    for i in range(simulacoes):\n",
    "        resultado = pesquisa(eleitorado, votacao, amostra)\n",
    "        soma_resultado += resultado\n",
    "        soma_erro += abs(((resultado)/votacao - 1) * 100)\n",
    "    resultado_medio = soma_resultado/ simulacoes\n",
    "    return soma_resultado"
   ]
  },
  {
   "cell_type": "code",
   "execution_count": 69,
   "metadata": {},
   "outputs": [],
   "source": [
    "def simulacao_erro(simulacoes, amostra):\n",
    "    soma_resultado = 0\n",
    "    soma_erro = 0\n",
    "    for i in range(simulacoes):\n",
    "        resultado = pesquisa(eleitorado, votacao, amostra) * eleitorado\n",
    "        soma_resultado += resultado\n",
    "        soma_erro += abs(((resultado)/votacao - 1) * 100)\n",
    "    erro_medio = soma_erro/ simulacoes\n",
    "    return erro_medio"
   ]
  },
  {
   "cell_type": "markdown",
   "metadata": {},
   "source": [
    "## Agora vamos visualizar a diferença do erro médio para tamanhos diferentes de amostra"
   ]
  },
  {
   "cell_type": "markdown",
   "metadata": {},
   "source": [
    "### O código abaixo faz 150 simulações em diferentes tamanhos de amostra. A amostra varia de 10 em 10, partindo de 10 a 1500. No total, são feitas 150.000 'pesquisas'."
   ]
  },
  {
   "cell_type": "code",
   "execution_count": 84,
   "metadata": {
    "scrolled": true
   },
   "outputs": [
    {
     "name": "stdout",
     "output_type": "stream",
     "text": [
      "Finalizado\n"
     ]
    }
   ],
   "source": [
    "valores_amostra = []\n",
    "resultado_medio = []\n",
    "erro_medio = []\n",
    "erro_formula = []\n",
    "formula = []\n",
    "for i in range(1,451):\n",
    "    formula.append(0)\n",
    "    erro_medio.append(0)\n",
    "    valores_amostra.append(i*10)\n",
    "for i in range(0,450):\n",
    "    simulacao_formula = simulacao_formula_funcao(100, valores_amostra[i])\n",
    "    formula[i] = (simulacao_formula * (1-simulacao_formula))/valores_amostra[i]\n",
    "    erro_medio[i] = simulacao_erro(100, valores_amostra[i])\n",
    "print(\"Finalizado\")"
   ]
  },
  {
   "cell_type": "code",
   "execution_count": 85,
   "metadata": {},
   "outputs": [],
   "source": [
    "erro_formula = []\n",
    "for i in range(1,451):\n",
    "    erro_formula.append(0)\n",
    "for i in range(0,450):\n",
    "    erro_formula[i] = math.sqrt(abs(formula[i]))\n"
   ]
  },
  {
   "cell_type": "markdown",
   "metadata": {},
   "source": [
    "## Vizualizando a variação do erro quando se varia as amostras."
   ]
  },
  {
   "cell_type": "code",
   "execution_count": 86,
   "metadata": {},
   "outputs": [
    {
     "data": {
      "image/png": "[encoded data removed]",
      "text/plain": [
       "<Figure size 432x288 with 1 Axes>"
      ]
     },
     "metadata": {},
     "output_type": "display_data"
    }
   ],
   "source": [
    "plt.xlabel(\"Amostra\")\n",
    "plt.ylabel(\"Margem de erro\")\n",
    "plt.title(\"Margem de erro para tamanhos de amostra diferentes\\n\")\n",
    "line2, = plt.plot(valores_amostra, erro_medio)\n",
    "plt.show()"
   ]
  },
  {
   "cell_type": "markdown",
   "metadata": {},
   "source": [
    "### Podemos concluir, então, que o erro não excede 4.06 pontos percentuais para amostras menores que 4500."
   ]
  },
  {
   "cell_type": "markdown",
   "metadata": {},
   "source": [
    "### Visualizando a correlação entre a fórmula para a margem de erro e o gráfico gerado pela simulação"
   ]
  },
  {
   "cell_type": "code",
   "execution_count": 87,
   "metadata": {},
   "outputs": [
    {
     "data": {
      "image/png": "[encoded data removed]",
      "text/plain": [
       "<Figure size 432x288 with 1 Axes>"
      ]
     },
     "metadata": {},
     "output_type": "display_data"
    }
   ],
   "source": [
    "plt.xlabel(\"Amostra\")\n",
    "plt.ylabel(\"Margem de erro\")\n",
    "plt.title(\"Margem de erro para tamanhos de amostra diferentes, \\ncomparativo entre a simulação e a fórmula\\n\")\n",
    "\n",
    "line1, = plt.plot(valores_amostra, erro_formula, label=\"Margem de erro pela fórmula\")\n",
    "line2, = plt.plot(valores_amostra, erro_medio, label=\"Margem de erro gerada pela simulação\")\n",
    "plt.legend(handles=[line2, line1])\n",
    "plt.show()"
   ]
  },
  {
   "cell_type": "markdown",
   "metadata": {},
   "source": [
    "### Código elaborado por João Pedro Oliveira. 2018"
   ]
  }
 ],
 "metadata": {
  "kernelspec": {
   "display_name": "Python 3",
   "language": "python",
   "name": "python3"
  },
  "language_info": {
   "codemirror_mode": {
    "name": "ipython",
    "version": 3
   },
   "file_extension": ".py",
   "mimetype": "text/x-python",
   "name": "python",
   "nbconvert_exporter": "python",
   "pygments_lexer": "ipython3",
   "version": "3.6.5"
  }
 },
 "nbformat": 4,
 "nbformat_minor": 2
}
