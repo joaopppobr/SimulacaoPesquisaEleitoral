{
 "cells": [
  {
   "cell_type": "markdown",
   "metadata": {},
   "source": [
    "# Simulando pesquisas eleitorais com Python"
   ]
  },
  {
   "cell_type": "markdown",
   "metadata": {},
   "source": [
    "### Esse código é o complemento do meu post sobre pesquisas eleitorais, ele pode ser lido [aqui](https://www.itsjohnsnotes.com/single-post/2018/10/27/Pesquisas-Eleitorais-Só-Precisam-de-2000-Pessoas-Pra-Acertar-Uma-Prova-Com-Programação)"
   ]
  },
  {
   "cell_type": "code",
   "execution_count": 168,
   "metadata": {},
   "outputs": [],
   "source": [
    "import math\n",
    "import random\n",
    "import matplotlib.pyplot as plt\n",
    "import scipy.stats\n",
    "import statistics\n",
    "import numpy as np\n",
    "%matplotlib inline"
   ]
  },
  {
   "cell_type": "markdown",
   "metadata": {},
   "source": [
    "### Primeiro, definimos o tamanho do eleitorado e o número de votos para os quais vamos simular e definimos a função 'pesquisa'"
   ]
  },
  {
   "cell_type": "markdown",
   "metadata": {},
   "source": [
    "### Fixando alguns valores para facilitar a análise. Eles podem (e devem) ser alterados no futuro"
   ]
  },
  {
   "cell_type": "code",
   "execution_count": 188,
   "metadata": {},
   "outputs": [],
   "source": [
    "eleitorado = 150000000\n",
    "votacao = 60000000"
   ]
  },
  {
   "cell_type": "code",
   "execution_count": 4,
   "metadata": {},
   "outputs": [],
   "source": [
    "def pesquisa(eleitorado, votacao, amostra):\n",
    "    resultado = 0\n",
    "    for i in range(amostra):\n",
    "        chave = random.randint(0,eleitorado)\n",
    "        if chave < votacao:\n",
    "            resultado += 1\n",
    "        else:\n",
    "            resultado += 0\n",
    "    return (resultado/amostra)"
   ]
  },
  {
   "cell_type": "markdown",
   "metadata": {},
   "source": [
    "## Agora vamos simular uma pesquisa:"
   ]
  },
  {
   "cell_type": "code",
   "execution_count": 7,
   "metadata": {},
   "outputs": [
    {
     "name": "stdout",
     "output_type": "stream",
     "text": [
      "resultado: 63150000.0, erro:5.249999999999999\n"
     ]
    }
   ],
   "source": [
    "amostra = 2000\n",
    "resultado_pesquisa = pesquisa(eleitorado, votacao, amostra) * eleitorado\n",
    "erro = abs(((resultado_pesquisa)/votacao - 1) * 100)\n",
    "\n",
    "print(\"resultado: {}, erro:{}\".format(resultado_pesquisa, erro))"
   ]
  },
  {
   "cell_type": "markdown",
   "metadata": {},
   "source": [
    "## Depois, definimos o número de simulações de pesquisa que queremos executar e definimos a função 'Simulacao'"
   ]
  },
  {
   "cell_type": "code",
   "execution_count": 262,
   "metadata": {},
   "outputs": [],
   "source": [
    "def simulacao_formula_funcao(simulacoes, amostra):\n",
    "    soma_resultado = 0\n",
    "    soma_erro = 0\n",
    "    for i in range(simulacoes):\n",
    "        resultado = pesquisa(eleitorado, votacao, amostra)\n",
    "        soma_resultado += resultado\n",
    "        soma_erro += abs(((resultado)/votacao - 1) * 100)\n",
    "    resultado_medio = soma_resultado/ simulacoes\n",
    "    return soma_resultado"
   ]
  },
  {
   "cell_type": "code",
   "execution_count": 264,
   "metadata": {},
   "outputs": [],
   "source": [
    "def simulacao_erro(simulacoes, amostra):\n",
    "    soma_resultado = 0\n",
    "    soma_erro = 0\n",
    "    for i in range(simulacoes):\n",
    "        resultado = pesquisa(eleitorado, votacao, amostra) * eleitorado\n",
    "        soma_resultado += resultado\n",
    "        soma_erro += abs(((resultado)/votacao - 1) * 100)\n",
    "    erro_medio = soma_erro/ simulacoes\n",
    "    return erro_medio"
   ]
  },
  {
   "cell_type": "markdown",
   "metadata": {},
   "source": [
    "### Visualizando o desvio padrão e o histograma do erro com um tamanho de amostra."
   ]
  },
  {
   "cell_type": "code",
   "execution_count": 273,
   "metadata": {},
   "outputs": [],
   "source": [
    "def simulacao_histograma_simulacao(simulacoes, amostra):\n",
    "    erro = []\n",
    "    erro_normalizado = []\n",
    "    mu = 0\n",
    "    for i in range(simulacoes):\n",
    "        erro_normalizado.append(0)\n",
    "        erro.append(0)\n",
    "        resultado = pesquisa(eleitorado, votacao, amostra) * eleitorado\n",
    "        erro[i] = ((resultado)/votacao - 1) * 100\n",
    "        erro_normalizado[i] = abs(((resultado)/votacao - 1) * 100)     \n",
    "    sigma = np.std(erro_normalizado)\n",
    "    mu = np.mean(erro_normalizado)\n",
    "    \n",
    "    print(\"Média dos erros: {}\".format(mu))\n",
    "    print(\"Desvio Padrão Erros Simulação: {}\".format(sigma))\n",
    "    print(\"Variância Erros Simulação: {}\".format(sigma * sigma))\n",
    "    plt.xlabel(\"Erro\")\n",
    "    plt.ylabel(\"Frequência\")\n",
    "    plt.title(\"Amostra = {}\".format(amostra))\n",
    "    x = np.linspace(mu - 3*sigma, mu + 3*sigma, 100)\n",
    "    #plot2 = plt.plot(x,scipy.stats.norm.pdf(x, mu, sigma))\n",
    "    plot1 = plt.hist(erro, bins=10)\n",
    "    plt.show()"
   ]
  },
  {
   "cell_type": "code",
   "execution_count": 274,
   "metadata": {},
   "outputs": [
    {
     "name": "stdout",
     "output_type": "stream",
     "text": [
      "Média dos erros: 2.267875\n",
      "Desvio Padrão Erros Simulação: 1.7501095992465725\n",
      "Variância Erros Simulação: 3.0628836093749987\n"
     ]
    },
    {
     "data": {
      "image/png": "[encoded data removed]",
      "text/plain": [
       "<Figure size 432x288 with 1 Axes>"
      ]
     },
     "metadata": {},
     "output_type": "display_data"
    }
   ],
   "source": [
    "simulacao_histograma_simulacao(1000,2000)"
   ]
  },
  {
   "cell_type": "markdown",
   "metadata": {},
   "source": [
    "### Fazendo isso para a distribuição normal"
   ]
  },
  {
   "cell_type": "code",
   "execution_count": 271,
   "metadata": {},
   "outputs": [],
   "source": [
    "def simulacao_distribuicao_erro(simulacoes, amostra):\n",
    "    erro = []\n",
    "    erro_normalizado = []\n",
    "    mu = 0\n",
    "    for i in range(simulacoes):\n",
    "        erro_normalizado.append(0)\n",
    "        erro.append(0)\n",
    "        resultado = pesquisa(eleitorado, votacao, amostra) * eleitorado\n",
    "        erro[i] = ((resultado)/votacao - 1) * 100\n",
    "        erro_normalizado[i] = abs(((resultado)/votacao - 1) * 100)     \n",
    "    sigma = np.std(erro_normalizado)\n",
    "    mu = np.mean(erro_normalizado)\n",
    "    \n",
    "    print(\"Média dos erros: {}\".format(mu))\n",
    "    print(\"Desvio Padrão Erros Simulação: {}\".format(sigma))\n",
    "    print(\"Variância Erros Simulação: {}\".format(sigma * sigma))\n",
    "    plt.xlabel(\"Erro\")\n",
    "    plt.ylabel(\"Frequência\")\n",
    "    plt.title(\"Amostra = {}\".format(amostra))\n",
    "    x = np.linspace(mu - 3*sigma, mu + 3*sigma, 100)\n",
    "    plot2 = plt.plot(x,scipy.stats.norm.pdf(x, mu, sigma))\n",
    "    plt.show()"
   ]
  },
  {
   "cell_type": "code",
   "execution_count": 272,
   "metadata": {},
   "outputs": [
    {
     "name": "stdout",
     "output_type": "stream",
     "text": [
      "Média dos erros: 2.1163749999999997\n",
      "Desvio Padrão Erros Simulação: 1.6174064839659197\n",
      "Variância Erros Simulação: 2.6160037343749987\n"
     ]
    },
    {
     "data": {
      "image/png": "[encoded data removed]",
      "text/plain": [
       "<Figure size 432x288 with 1 Axes>"
      ]
     },
     "metadata": {},
     "output_type": "display_data"
    }
   ],
   "source": [
    "simulacao_distribuicao_erro(1000,2000)"
   ]
  },
  {
   "cell_type": "markdown",
   "metadata": {},
   "source": [
    "### Aqui está a dúvida de como tratar essa distribuição no resultado final. O que deve ser mudado no código?"
   ]
  },
  {
   "cell_type": "markdown",
   "metadata": {},
   "source": [
    "## Agora vamos visualizar a diferença do erro médio para tamanhos diferentes de amostra"
   ]
  },
  {
   "cell_type": "markdown",
   "metadata": {},
   "source": [
    "### O código abaixo faz 450 simulações em diferentes tamanhos de amostra. A amostra varia de 10 em 10, partindo de 10 a 4500. No total, são feitas 450.000 'pesquisas'."
   ]
  },
  {
   "cell_type": "code",
   "execution_count": 267,
   "metadata": {
    "scrolled": true
   },
   "outputs": [
    {
     "name": "stdout",
     "output_type": "stream",
     "text": [
      "Finalizado\n"
     ]
    }
   ],
   "source": [
    "valores_amostra = []\n",
    "resultado_medio = []\n",
    "erro_medio = []\n",
    "erro_formula = []\n",
    "formula = []\n",
    "for i in range(1,451):\n",
    "    formula.append(0)\n",
    "    erro_medio.append(0)\n",
    "    valores_amostra.append(i*10)\n",
    "for i in range(0,450):\n",
    "    simulacao_formula = simulacao_formula_funcao(100, valores_amostra[i])\n",
    "    formula[i] = (simulacao_formula * (1-simulacao_formula))/valores_amostra[i]\n",
    "    erro_medio[i] = simulacao_erro(100, valores_amostra[i])\n",
    "print(\"Finalizado\")"
   ]
  },
  {
   "cell_type": "code",
   "execution_count": 268,
   "metadata": {},
   "outputs": [],
   "source": [
    "erro_formula = []\n",
    "for i in range(1,451):\n",
    "    erro_formula.append(0)\n",
    "for i in range(0,450):\n",
    "    erro_formula[i] = math.sqrt(abs(formula[i]))\n"
   ]
  },
  {
   "cell_type": "markdown",
   "metadata": {},
   "source": [
    "## Vizualizando a variação do erro quando se varia as amostras."
   ]
  },
  {
   "cell_type": "code",
   "execution_count": 269,
   "metadata": {},
   "outputs": [
    {
     "data": {
      "image/png": "[encoded data removed]",
      "text/plain": [
       "<Figure size 432x288 with 1 Axes>"
      ]
     },
     "metadata": {},
     "output_type": "display_data"
    }
   ],
   "source": [
    "plt.xlabel(\"Amostra\")\n",
    "plt.ylabel(\"Margem de erro\")\n",
    "plt.title(\"Margem de erro para tamanhos de amostra diferentes\\n\")\n",
    "line2, = plt.plot(valores_amostra, erro_medio)\n",
    "plt.show()"
   ]
  },
  {
   "cell_type": "markdown",
   "metadata": {},
   "source": [
    "### Podemos concluir, então, que o erro não excede 4.06 pontos percentuais para amostras menores que 4500."
   ]
  },
  {
   "cell_type": "markdown",
   "metadata": {},
   "source": [
    "### Visualizando a correlação entre a fórmula para a margem de erro e o gráfico gerado pela simulação"
   ]
  },
  {
   "cell_type": "code",
   "execution_count": 270,
   "metadata": {},
   "outputs": [
    {
     "data": {
      "image/png": "[encoded data removed]",
      "text/plain": [
       "<Figure size 432x288 with 1 Axes>"
      ]
     },
     "metadata": {},
     "output_type": "display_data"
    }
   ],
   "source": [
    "plt.xlabel(\"Amostra\")\n",
    "plt.ylabel(\"Margem de erro\")\n",
    "plt.title(\"Margem de erro para tamanhos de amostra diferentes, \\ncomparativo entre a simulação e a fórmula\\n\")\n",
    "\n",
    "line1, = plt.plot(valores_amostra, erro_formula, label=\"Margem de erro pela fórmula\")\n",
    "line2, = plt.plot(valores_amostra, erro_medio, label=\"Margem de erro gerada pela simulação\")\n",
    "plt.legend(handles=[line2, line1])\n",
    "plt.show()"
   ]
  },
  {
   "cell_type": "markdown",
   "metadata": {},
   "source": [
    "### Código elaborado por João Pedro Oliveira. 2018"
   ]
  }
 ],
 "metadata": {
  "kernelspec": {
   "display_name": "Python 3",
   "language": "python",
   "name": "python3"
  },
  "language_info": {
   "codemirror_mode": {
    "name": "ipython",
    "version": 3
   },
   "file_extension": ".py",
   "mimetype": "text/x-python",
   "name": "python",
   "nbconvert_exporter": "python",
   "pygments_lexer": "ipython3",
   "version": "3.6.5"
  }
 },
 "nbformat": 4,
 "nbformat_minor": 2
}
